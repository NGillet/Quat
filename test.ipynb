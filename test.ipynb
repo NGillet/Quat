{
 "cells": [
  {
   "cell_type": "code",
   "execution_count": 1,
   "id": "44f28a4d",
   "metadata": {},
   "outputs": [
    {
     "name": "stdout",
     "output_type": "stream",
     "text": [
      "pygame 2.6.1 (SDL 2.28.4, Python 3.12.9)\n",
      "Hello from the pygame community. https://www.pygame.org/contribute.html\n"
     ]
    }
   ],
   "source": [
    "import numpy as np\n",
    "import pygame\n",
    "import sys\n",
    "\n",
    "# import imageio\n",
    "\n",
    "from quaternion import Point3D, Rotation, Vecteur3D\n",
    "\n",
    "from drawing_obj import Point_obj, Groupe_drawable_object, Screen, Vecteur_obj, Droite_obj, Circle_obj, Sphere_obj, Tore_obj\n",
    "\n",
    "%load_ext autoreload\n",
    "%autoreload 2"
   ]
  },
  {
   "cell_type": "code",
   "execution_count": 2,
   "id": "6a861ac7",
   "metadata": {},
   "outputs": [
    {
     "name": "stdout",
     "output_type": "stream",
     "text": [
      "Jupyter environment detected. Enabling Open3D WebVisualizer.\n",
      "[Open3D INFO] WebRTC GUI backend enabled.\n",
      "[Open3D INFO] WebRTCWindowSystem: HTTP handshake server disabled.\n"
     ]
    }
   ],
   "source": [
    "import open3d as o3d"
   ]
  },
  {
   "cell_type": "code",
   "execution_count": 3,
   "id": "171b1a41",
   "metadata": {},
   "outputs": [],
   "source": [
    "T = Tore_obj( Vecteur3D( Point3D(0,0,3), Point3D(0,0,2) ), 3, 0.75, 20 )\n"
   ]
  },
  {
   "cell_type": "code",
   "execution_count": 4,
   "id": "0056103d",
   "metadata": {},
   "outputs": [
    {
     "name": "stdout",
     "output_type": "stream",
     "text": [
      "(48, 3)\n"
     ]
    }
   ],
   "source": [
    "points = [\n",
    "    Point_obj(x, y, z)\n",
    "    for x in (1.,3.) for y in (-1.,1.) for z in (-1.,1.)\n",
    "]\n",
    "\n",
    "cube_point = points[0]\n",
    "for p in points[1:]:\n",
    "    cube_point = cube_point | p\n",
    "\n",
    "d1 = Droite_obj( Point3D([3],[1],[1]), Point3D([1],[1],[1,]) )\n",
    "# d2 = Droite_obj( Point3D([3],[-1],[1]), Point3D([1],[-1],[1,]) )\n",
    "\n",
    "# dd = d1 | d1 | d1\n",
    "\n",
    "# d = Droite_obj( Point3D([3,3,3,3],[1,-1.,1,-1],[1,1,-1,-1]), Point3D([1,1,1,1],[1,-1,1,-1],[1,1,-1,-1]) )\n",
    "# d = d | Droite_obj( Point3D([1,3,3,1],[-1,-1,-1,-1],[1,1,-1,-1]), Point3D([1,3,3,1],[1,1,1,1],[1,1,-1,-1]) )\n",
    "\n",
    "\n",
    "for count, i in enumerate(np.linspace( -40,40, 21 )):\n",
    "    if count:\n",
    "        grille = grille | Droite_obj( Point3D(1,i,0.), Point3D(0.,i,0.) )\n",
    "        grille = grille | Droite_obj( Point3D(i,1.,0.), Point3D(i,0.,0.) )\n",
    "    else:\n",
    "        grille = Droite_obj( Point3D(1,i,0.), Point3D(0.,i,0.) )\n",
    "        grille = grille | Droite_obj( Point3D(i,1.,0.), Point3D(i,0.,0.) )\n",
    "\n",
    "#grille = Droite_obj( Point3D(1,16,0.), Point3D(0.,16,0.) )\n",
    "#grille = grille | Droite_obj( Point3D(1,-16,0.), Point3D(0.,-16,0.) )\n",
    "\n",
    "# grille = [ Droite_obj( Point3D(1,i,0.), Point3D(0.,i,0.) ) for i in np.linspace( -3,3, 7 )]\n",
    "# grille += [ Droite_obj( Point3D(i,1.,0.), Point3D(i,0.,0.) ) for i in np.linspace( -3,3, 11 )]\n",
    "\n",
    "# vs  = [ Vecteur3D( Point3D(0.,i,0.), Point3D(1,i,0.) ) for i in np.linspace( -3,3, 7 )]\n",
    "# vs += [ Vecteur3D( Point3D(i,0.,0.), Point3D(i,1.,0.) ) for i in np.linspace( -3,3, 7 )]\n",
    "\n",
    "vss = Vecteur_obj( Point3D(0.,0.,0.), Point3D(1,0,0.) )\n",
    "for i in np.linspace( -3,3, 7 ):\n",
    "    vss = vss | Vecteur_obj( Point3D(0.,i,0.), Point3D(1,i,0.) )\n",
    "    vss = vss | Vecteur_obj( Point3D(i,0.,0.), Point3D(i,1.,0.) )\n",
    "\n",
    "#vss = Vecteur3D( Point3D(0.,0.,0.), Point3D(3,0,0.) )\n",
    "\n",
    "\n",
    "C = Circle_obj( Vecteur3D(Point3D(1,0,0), Point3D(0,0,0)).to_unitaire, 5, 20  )\n",
    "\n",
    "sph = Sphere_obj( Point3D(1,1,1), 1., 32 )\n",
    "\n",
    "T = Tore_obj( Vecteur3D( Point3D(0,0,3), Point3D(0,0,2) ), 3, 0.75, 20 )\n",
    "\n",
    "grp = Groupe_drawable_object()\n",
    "grp.add_in( cube_point )\n",
    "#grp.add_in( d1 )\n",
    "grp.add_in( grille )\n",
    "#grp.add_in( vss )\n",
    "grp.add_in(sph)\n",
    "grp.add_in(C)\n",
    "\n",
    "grp.add_in(T)"
   ]
  },
  {
   "cell_type": "code",
   "execution_count": null,
   "id": "aa994db6",
   "metadata": {},
   "outputs": [],
   "source": []
  },
  {
   "cell_type": "code",
   "execution_count": 5,
   "id": "7ba09334",
   "metadata": {},
   "outputs": [
    {
     "name": "stderr",
     "output_type": "stream",
     "text": [
      "/home/nicolas-gillet/Projets/quaternion/drawing_obj.py:288: RuntimeWarning: invalid value encountered in sqrt\n",
      "  tpos = np.sqrt(\n",
      "/home/nicolas-gillet/Projets/quaternion/drawing_obj.py:365: RuntimeWarning: divide by zero encountered in divide\n",
      "  return (-f_ * ca + f_ * cs - cs * xa_) / (cs * Vx_ + f_ * Vc_)\n",
      "/home/nicolas-gillet/Projets/quaternion/drawing_obj.py:358: RuntimeWarning: invalid value encountered in multiply\n",
      "  return -f_ * (Vc_ * ts + ca) / (-f_ + Vx_ * ts + xa_)\n",
      "/home/nicolas-gillet/Projets/quaternion/drawing_obj.py:358: RuntimeWarning: invalid value encountered in divide\n",
      "  return -f_ * (Vc_ * ts + ca) / (-f_ + Vx_ * ts + xa_)\n",
      "/home/nicolas-gillet/Projets/quaternion/drawing_obj.py:372: RuntimeWarning: invalid value encountered in multiply\n",
      "  x3d1 = Ax + Vx * t1\n",
      "/home/nicolas-gillet/Projets/quaternion/drawing_obj.py:373: RuntimeWarning: invalid value encountered in multiply\n",
      "  y3d1 = Ay + Vy * t1\n",
      "/home/nicolas-gillet/Projets/quaternion/drawing_obj.py:374: RuntimeWarning: invalid value encountered in multiply\n",
      "  z3d1 = Az + Vz * t1\n",
      "/home/nicolas-gillet/Projets/quaternion/drawing_obj.py:387: RuntimeWarning: invalid value encountered in multiply\n",
      "  x3d2 = Ax + Vx * t2\n",
      "/home/nicolas-gillet/Projets/quaternion/drawing_obj.py:388: RuntimeWarning: invalid value encountered in multiply\n",
      "  y3d2 = Ay + Vy * t2\n",
      "/home/nicolas-gillet/Projets/quaternion/drawing_obj.py:389: RuntimeWarning: invalid value encountered in multiply\n",
      "  z3d2 = Az + Vz * t2\n",
      "/home/nicolas-gillet/Projets/quaternion/drawing_obj.py:358: RuntimeWarning: divide by zero encountered in divide\n",
      "  return -f_ * (Vc_ * ts + ca) / (-f_ + Vx_ * ts + xa_)\n",
      "/home/nicolas-gillet/Projets/quaternion/drawing_obj.py:404: RuntimeWarning: invalid value encountered in multiply\n",
      "  x3d3 = Ax + Vx * t3\n",
      "/home/nicolas-gillet/Projets/quaternion/drawing_obj.py:405: RuntimeWarning: invalid value encountered in multiply\n",
      "  y3d3 = Ay + Vy * t3\n",
      "/home/nicolas-gillet/Projets/quaternion/drawing_obj.py:406: RuntimeWarning: invalid value encountered in multiply\n",
      "  z3d3 = Az + Vz * t3\n",
      "/home/nicolas-gillet/Projets/quaternion/drawing_obj.py:420: RuntimeWarning: invalid value encountered in multiply\n",
      "  x3d4 = Ax + Vx * t4\n",
      "/home/nicolas-gillet/Projets/quaternion/drawing_obj.py:421: RuntimeWarning: invalid value encountered in multiply\n",
      "  y3d4 = Ay + Vy * t4\n",
      "/home/nicolas-gillet/Projets/quaternion/drawing_obj.py:422: RuntimeWarning: invalid value encountered in multiply\n",
      "  z3d4 = Az + Vz * t4\n"
     ]
    },
    {
     "ename": "SystemExit",
     "evalue": "",
     "output_type": "error",
     "traceback": [
      "An exception has occurred, use %tb to see the full traceback.\n",
      "\u001b[31mSystemExit\u001b[39m\n"
     ]
    },
    {
     "name": "stderr",
     "output_type": "stream",
     "text": [
      "/home/nicolas-gillet/micromamba/envs/generale/lib/python3.12/site-packages/IPython/core/interactiveshell.py:3675: UserWarning: To exit: use 'exit', 'quit', or Ctrl-D.\n",
      "  warn(\"To exit: use 'exit', 'quit', or Ctrl-D.\", stacklevel=1)\n"
     ]
    }
   ],
   "source": [
    "SIZE, FPS = 600, 30\n",
    "S = Screen(2., 110, size_pixel=SIZE, DoV=10.)\n",
    "\n",
    "pygame.init()\n",
    "screen = pygame.display.set_mode((SIZE, SIZE))\n",
    "clock = pygame.time.Clock()\n",
    "\n",
    "### open a writer \n",
    "# writer = imageio.get_writer(\"recording.mp4\", fps=30)\n",
    "\n",
    "alpha_speed_translation = 0.1\n",
    "alpha_speed_rot = 3\n",
    "d_angle = np.arctan( S.demi_screen_size / 1.5 ) / (SIZE/2)  * alpha_speed_rot ### rad/px\n",
    "rot_y = Rotation(d_angle, Vecteur3D( Point3D(2.,0.,1.), Point3D(2.,0.,0.)) )\n",
    "rot_z = Rotation(d_angle, Vecteur3D( Point3D(2.,1.,0.), Point3D(2.,0.,0.)) )\n",
    "\n",
    "rot_y_view = Rotation(d_angle, Vecteur3D( Point3D(0.,0.,1.) ) )\n",
    "rot_z_view = Rotation(d_angle, Vecteur3D( Point3D(0.,1.,0.) ) )\n",
    "\n",
    "### \n",
    "rot_cercle = Rotation(d_angle, C.vecteur_normal.copy )\n",
    "C.add_rot( rot_cercle )\n",
    "### \n",
    "rot_sphere = Rotation(d_angle, Vecteur3D( Point3D(9,3,7), sph.centre.copy)  )\n",
    "sph.add_rot( rot_sphere )\n",
    "### \n",
    "rot_torus = Rotation(d_angle, T.vecteur_normal.copy )\n",
    "T.add_rot(rot_torus)\n",
    "\n",
    "\n",
    "# Main loop\n",
    "running = True\n",
    "dragging = False\n",
    "dyr, dzr = 0, 0\n",
    "while running:\n",
    "    for e in pygame.event.get():\n",
    "        if e.type == pygame.QUIT:\n",
    "            running = False\n",
    "\n",
    "        ### Translations\n",
    "        keys = pygame.key.get_pressed()\n",
    "        if keys[pygame.K_z]:\n",
    "            grp >>= (Vecteur3D( Point3D(-1.,0.,0.) ) * alpha_speed_translation)\n",
    "        if keys[pygame.K_s]:\n",
    "            grp >>= (Vecteur3D( Point3D(1.,0.,0.) )  * alpha_speed_translation)\n",
    "        if keys[pygame.K_q]:\n",
    "            grp >>= (Vecteur3D( Point3D(0.,-1.,0.) ) * alpha_speed_translation)\n",
    "        if keys[pygame.K_d]:\n",
    "            grp >>= (Vecteur3D( Point3D(0.,1.,0.) )  * alpha_speed_translation)\n",
    "        if keys[pygame.K_SPACE]:\n",
    "            grp >>= (Vecteur3D( Point3D(0.,0.,-1.) ) * alpha_speed_translation)\n",
    "        if keys[pygame.K_LCTRL]:\n",
    "            grp >>= (Vecteur3D( Point3D(0.,0.,1.) )  * alpha_speed_translation)\n",
    "\n",
    "        left, middle, right = pygame.mouse.get_pressed()\n",
    "        ### rotations\n",
    "        if right and e.type == pygame.MOUSEMOTION:\n",
    "            dyr, dzr = e.rel\n",
    "            rot_y_view.angle = d_angle * dyr\n",
    "            grp *= rot_y_view\n",
    "            rot_z_view.angle = d_angle * (-dzr)\n",
    "            grp *= rot_z_view\n",
    "        elif left and e.type == pygame.MOUSEMOTION:\n",
    "            dyr, dzr = e.rel\n",
    "            rot_y.angle = d_angle * dyr\n",
    "            grp *= rot_y\n",
    "            rot_z.angle = d_angle * (-dzr)\n",
    "            grp *= rot_z\n",
    "\n",
    "    grp.apply_rotation_propre()\n",
    "\n",
    "            \n",
    "    screen.fill((20,20,20))\n",
    "\n",
    "    ### Draw ojects on screen\n",
    "    for obj in grp.list_of_obj:\n",
    "\n",
    "        i, j = obj.project_on_screen(S)\n",
    "\n",
    "        if i.ndim==1:\n",
    "            for ii, jj in zip(i,j):\n",
    "                pygame.draw.circle(screen, (250,250,250), (jj, ii), 2.2)\n",
    "\n",
    "        elif i.ndim==2:\n",
    "            for ii, jj in zip( i.T, j.T ): \n",
    "                pygame.draw.line(screen, (250,250,250), (jj[0],ii[0]), (jj[1],ii[1]), 1)\n",
    "\n",
    "        else:\n",
    "            print( f\"Drawing of obj {type(obj)} not inplemented\" )\n",
    "\n",
    "    pygame.display.flip()\n",
    "\n",
    "\n",
    "    # # capture frame\n",
    "    # frame = pygame.surfarray.array3d(screen)       # shape (W,H,3)\n",
    "    # frame = np.transpose(frame, (1, 0, 2))         # to (H,W,3)\n",
    "    # writer.append_data(frame)\n",
    "\n",
    "    dt = clock.tick(FPS)\n",
    "    if dt>=40:\n",
    "        print( f\"ping : {dt} ms\" )\n",
    "\n",
    "pygame.quit()\n",
    "sys.exit()"
   ]
  },
  {
   "cell_type": "code",
   "execution_count": null,
   "id": "31239a6c",
   "metadata": {},
   "outputs": [],
   "source": []
  }
 ],
 "metadata": {
  "kernelspec": {
   "display_name": "Python 3",
   "language": "python",
   "name": "python3"
  },
  "language_info": {
   "codemirror_mode": {
    "name": "ipython",
    "version": 3
   },
   "file_extension": ".py",
   "mimetype": "text/x-python",
   "name": "python",
   "nbconvert_exporter": "python",
   "pygments_lexer": "ipython3",
   "version": "3.12.9"
  }
 },
 "nbformat": 4,
 "nbformat_minor": 5
}
